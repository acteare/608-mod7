{
 "cells": [
  {
   "cell_type": "markdown",
   "id": "678f912b-240f-4781-a24d-26a2c2bc1ac0",
   "metadata": {},
   "source": [
    "## Chapter 10"
   ]
  },
  {
   "cell_type": "markdown",
   "id": "99577fd1-eb41-458a-95f4-28d42d3a3158",
   "metadata": {},
   "source": [
    "### 10.2.1 Test-Driving Class Count"
   ]
  },
  {
   "cell_type": "markdown",
   "id": "daa61eda-a386-4516-b3cf-fa7c310ccf81",
   "metadata": {},
   "source": [
    "#### Importing Classes Account and Decimal"
   ]
  },
  {
   "cell_type": "code",
   "execution_count": 1,
   "id": "6faf2d92-5bbc-45ba-8d7e-ba7f6d603191",
   "metadata": {},
   "outputs": [],
   "source": [
    "from account import Account"
   ]
  },
  {
   "cell_type": "code",
   "execution_count": 2,
   "id": "37771ae8-be9f-4610-a851-e0da2a3c4930",
   "metadata": {},
   "outputs": [],
   "source": [
    "from decimal import Decimal"
   ]
  },
  {
   "cell_type": "markdown",
   "id": "9b26823c-b66b-4c20-afc0-11d781ec4832",
   "metadata": {},
   "source": [
    "#### Create an Account Object with a Constructor Expression"
   ]
  },
  {
   "cell_type": "code",
   "execution_count": 3,
   "id": "0457fa80-f637-49c9-94cf-3f3dd4837b96",
   "metadata": {},
   "outputs": [],
   "source": [
    "account1 = Account('John Green', Decimal('50.00'))"
   ]
  },
  {
   "cell_type": "markdown",
   "id": "0d6b7bf9-b5bd-4eeb-9106-fee61d00c546",
   "metadata": {},
   "source": [
    "#### Getting an Account's Name and Balance"
   ]
  },
  {
   "cell_type": "code",
   "execution_count": 4,
   "id": "145c23db-fa9a-446b-b9e8-fefe5900c74b",
   "metadata": {},
   "outputs": [
    {
     "data": {
      "text/plain": [
       "'John Green'"
      ]
     },
     "execution_count": 4,
     "metadata": {},
     "output_type": "execute_result"
    }
   ],
   "source": [
    "account1.name"
   ]
  },
  {
   "cell_type": "code",
   "execution_count": 5,
   "id": "0eb5315f-e301-40c2-8eae-e67d7111db87",
   "metadata": {},
   "outputs": [
    {
     "data": {
      "text/plain": [
       "Decimal('50.00')"
      ]
     },
     "execution_count": 5,
     "metadata": {},
     "output_type": "execute_result"
    }
   ],
   "source": [
    "account1.balance"
   ]
  },
  {
   "cell_type": "markdown",
   "id": "b85b7e85-30e3-4be0-9873-68e9b06185e0",
   "metadata": {},
   "source": [
    "#### Depositing Money into an Account"
   ]
  },
  {
   "cell_type": "code",
   "execution_count": 6,
   "id": "f14ae156-9955-4a0e-b66b-e05b5ec32336",
   "metadata": {},
   "outputs": [],
   "source": [
    "account1.deposit(Decimal('25.53'))"
   ]
  },
  {
   "cell_type": "code",
   "execution_count": 7,
   "id": "05a7a13c-793d-4f3b-b550-caa736980759",
   "metadata": {},
   "outputs": [
    {
     "data": {
      "text/plain": [
       "Decimal('75.53')"
      ]
     },
     "execution_count": 7,
     "metadata": {},
     "output_type": "execute_result"
    }
   ],
   "source": [
    "account1.balance"
   ]
  },
  {
   "cell_type": "markdown",
   "id": "abe3e379-eddc-449d-9b38-34608cf51cec",
   "metadata": {},
   "source": [
    "#### Account Methods Perform Validation"
   ]
  },
  {
   "cell_type": "code",
   "execution_count": 9,
   "id": "cd6ef5d9-76f3-4874-be81-1d0cc3b231f7",
   "metadata": {},
   "outputs": [],
   "source": [
    "## account1.deposit(Decimal('-123.45')) \n",
    "\n",
    "## This will result in a ValueError"
   ]
  },
  {
   "cell_type": "markdown",
   "id": "2027da9d-63b9-4ee1-80cf-76a13de07220",
   "metadata": {},
   "source": [
    "### 10.2.2 Account Class Definition"
   ]
  },
  {
   "cell_type": "markdown",
   "id": "28e70822-d43d-4d28-98f5-a200af4b94bc",
   "metadata": {},
   "source": [
    "#### Defining a Class"
   ]
  },
  {
   "cell_type": "code",
   "execution_count": 10,
   "id": "e5974315-21a1-47cc-863a-19d7e75b9c8f",
   "metadata": {},
   "outputs": [
    {
     "data": {
      "text/plain": [
       "\u001b[1;31mInit signature:\u001b[0m \u001b[0mAccount\u001b[0m\u001b[1;33m(\u001b[0m\u001b[0mname\u001b[0m\u001b[1;33m,\u001b[0m \u001b[0mbalance\u001b[0m\u001b[1;33m)\u001b[0m\u001b[1;33m\u001b[0m\u001b[1;33m\u001b[0m\u001b[0m\n",
       "\u001b[1;31mDocstring:\u001b[0m      Account class for maintaining a bank account balance.\n",
       "\u001b[1;31mInit docstring:\u001b[0m Initialize an Account object.\n",
       "\u001b[1;31mFile:\u001b[0m           c:\\users\\actea\\documents\\44-608\\module7\\account.py\n",
       "\u001b[1;31mType:\u001b[0m           type\n",
       "\u001b[1;31mSubclasses:\u001b[0m     \n"
      ]
     },
     "metadata": {},
     "output_type": "display_data"
    }
   ],
   "source": [
    "Account?"
   ]
  },
  {
   "cell_type": "markdown",
   "id": "f7e2d864-a731-404f-8e42-0318a7a495aa",
   "metadata": {},
   "source": [
    "## 10.3 Controlling Access to Attributes"
   ]
  },
  {
   "cell_type": "code",
   "execution_count": 11,
   "id": "832f963b-512b-4c90-8434-a828588fc5a2",
   "metadata": {},
   "outputs": [],
   "source": [
    "from account import Account"
   ]
  },
  {
   "cell_type": "code",
   "execution_count": 12,
   "id": "e8db774b-5db1-44a6-83f7-6c178f9dd87f",
   "metadata": {},
   "outputs": [],
   "source": [
    "from decimal import Decimal"
   ]
  },
  {
   "cell_type": "code",
   "execution_count": 13,
   "id": "1e6486e6-bc2b-4297-a625-bde205899c76",
   "metadata": {},
   "outputs": [],
   "source": [
    "account1 = Account('John Green', Decimal('50.00'))"
   ]
  },
  {
   "cell_type": "code",
   "execution_count": 14,
   "id": "ff24a6b6-5ed5-4ce9-a222-03afc724be1d",
   "metadata": {},
   "outputs": [
    {
     "data": {
      "text/plain": [
       "Decimal('50.00')"
      ]
     },
     "execution_count": 14,
     "metadata": {},
     "output_type": "execute_result"
    }
   ],
   "source": [
    "account1.balance"
   ]
  },
  {
   "cell_type": "code",
   "execution_count": 15,
   "id": "fa58b835-6c8e-4d18-a522-0dcba78bce90",
   "metadata": {},
   "outputs": [],
   "source": [
    "account1.balance = Decimal('-1000.00')"
   ]
  },
  {
   "cell_type": "code",
   "execution_count": 16,
   "id": "b426963e-b878-42f8-84d2-49c8093f2891",
   "metadata": {},
   "outputs": [
    {
     "data": {
      "text/plain": [
       "Decimal('-1000.00')"
      ]
     },
     "execution_count": 16,
     "metadata": {},
     "output_type": "execute_result"
    }
   ],
   "source": [
    "account1.balance"
   ]
  },
  {
   "cell_type": "markdown",
   "id": "380f800e-9689-4782-b8e0-f5b4c0ab7327",
   "metadata": {},
   "source": [
    "## 10.4 Properties for Data Access"
   ]
  },
  {
   "cell_type": "markdown",
   "id": "ebd9555e-5045-4049-8766-a6ab86e55ffc",
   "metadata": {},
   "source": [
    "### 10.4.1 Test-Driving Class Time"
   ]
  },
  {
   "cell_type": "code",
   "execution_count": 17,
   "id": "dfdc4ba1-a40b-401f-a7f3-9e9c78e72f70",
   "metadata": {},
   "outputs": [],
   "source": [
    "from timewithproperties import Time"
   ]
  },
  {
   "cell_type": "markdown",
   "id": "7b6ed836-2117-4555-815e-8eeb6cc97a45",
   "metadata": {},
   "source": [
    "#### Creating a Time Object"
   ]
  },
  {
   "cell_type": "code",
   "execution_count": 18,
   "id": "3e5080cf-2011-40c3-867e-5d5098480934",
   "metadata": {},
   "outputs": [],
   "source": [
    "wake_up = Time(hour=6, minute=30)"
   ]
  },
  {
   "cell_type": "markdown",
   "id": "cf3d9e9f-88a2-40bc-a960-9e5358dabb55",
   "metadata": {},
   "source": [
    "#### Displaying a Time Object"
   ]
  },
  {
   "cell_type": "code",
   "execution_count": 19,
   "id": "a254e3d1-b30d-4320-a8d2-0a0bfb72efb0",
   "metadata": {},
   "outputs": [
    {
     "data": {
      "text/plain": [
       "Time(hour=6, minute=30, second=0)"
      ]
     },
     "execution_count": 19,
     "metadata": {},
     "output_type": "execute_result"
    }
   ],
   "source": [
    "wake_up"
   ]
  },
  {
   "cell_type": "code",
   "execution_count": 20,
   "id": "4d2b4b62-16c0-438c-9901-791fd06aac32",
   "metadata": {},
   "outputs": [
    {
     "name": "stdout",
     "output_type": "stream",
     "text": [
      "6:30:00 AM\n"
     ]
    }
   ],
   "source": [
    "print(wake_up)"
   ]
  },
  {
   "cell_type": "markdown",
   "id": "e2a3ecff-f881-41cc-9d14-e32130f6f333",
   "metadata": {},
   "source": [
    "#### Getting an Attribute Via a Property"
   ]
  },
  {
   "cell_type": "code",
   "execution_count": 21,
   "id": "1dc359a7-1a62-4da3-ba0a-0f1e62a1a05b",
   "metadata": {},
   "outputs": [
    {
     "data": {
      "text/plain": [
       "6"
      ]
     },
     "execution_count": 21,
     "metadata": {},
     "output_type": "execute_result"
    }
   ],
   "source": [
    "wake_up.hour"
   ]
  },
  {
   "cell_type": "markdown",
   "id": "e6d7e337-c260-4ede-9e36-1f2286d5ac65",
   "metadata": {},
   "source": [
    "#### Setting the Time"
   ]
  },
  {
   "cell_type": "code",
   "execution_count": 22,
   "id": "43830bcf-6691-4a62-98a3-c3bfaa084012",
   "metadata": {},
   "outputs": [],
   "source": [
    "wake_up.set_time(hour=7, minute=45)"
   ]
  },
  {
   "cell_type": "code",
   "execution_count": 23,
   "id": "2836b585-22c1-4f56-b283-6500044c5cfb",
   "metadata": {},
   "outputs": [
    {
     "data": {
      "text/plain": [
       "Time(hour=7, minute=45, second=0)"
      ]
     },
     "execution_count": 23,
     "metadata": {},
     "output_type": "execute_result"
    }
   ],
   "source": [
    "wake_up"
   ]
  },
  {
   "cell_type": "markdown",
   "id": "a2cbb595-76a7-413a-8b54-050fb690df50",
   "metadata": {},
   "source": [
    "#### Setting an Attribute via a Property"
   ]
  },
  {
   "cell_type": "code",
   "execution_count": 24,
   "id": "2ec334d6-9467-4698-8369-b927f4dca57e",
   "metadata": {},
   "outputs": [],
   "source": [
    "wake_up.hour = 6"
   ]
  },
  {
   "cell_type": "code",
   "execution_count": 25,
   "id": "558d955f-b2dd-44a9-931f-124007d5b348",
   "metadata": {},
   "outputs": [
    {
     "data": {
      "text/plain": [
       "Time(hour=6, minute=45, second=0)"
      ]
     },
     "execution_count": 25,
     "metadata": {},
     "output_type": "execute_result"
    }
   ],
   "source": [
    "wake_up"
   ]
  },
  {
   "cell_type": "markdown",
   "id": "4e31160e-4421-4ef4-9cb1-bd178bf6db64",
   "metadata": {},
   "source": [
    "### 10.4.3 Class Time Definition Design Notes"
   ]
  },
  {
   "cell_type": "markdown",
   "id": "47512cf3-05e5-4417-9e83-773d094e7c93",
   "metadata": {},
   "source": [
    "#### Attributes Are Always Accessible"
   ]
  },
  {
   "cell_type": "code",
   "execution_count": 26,
   "id": "9778ff37-0bce-406a-b30f-cc970462e18d",
   "metadata": {},
   "outputs": [],
   "source": [
    "from timewithproperties import Time"
   ]
  },
  {
   "cell_type": "code",
   "execution_count": 28,
   "id": "5d97b0ce-113a-4f57-99d3-8aad46e65983",
   "metadata": {},
   "outputs": [],
   "source": [
    "wake_up = Time(hour=7, minute=45, second=30)"
   ]
  },
  {
   "cell_type": "code",
   "execution_count": 29,
   "id": "b4c8150a-ece2-4d09-8c67-87726fb92c4b",
   "metadata": {},
   "outputs": [
    {
     "data": {
      "text/plain": [
       "7"
      ]
     },
     "execution_count": 29,
     "metadata": {},
     "output_type": "execute_result"
    }
   ],
   "source": [
    "wake_up.hour"
   ]
  },
  {
   "cell_type": "code",
   "execution_count": 30,
   "id": "73f6be18-041a-4384-87fc-2d81aca92942",
   "metadata": {},
   "outputs": [
    {
     "data": {
      "text/plain": [
       "7"
      ]
     },
     "execution_count": 30,
     "metadata": {},
     "output_type": "execute_result"
    }
   ],
   "source": [
    "wake_up._hour"
   ]
  },
  {
   "cell_type": "code",
   "execution_count": 31,
   "id": "ad2a4a71-d4c3-446b-95da-168648795332",
   "metadata": {},
   "outputs": [],
   "source": [
    "wake_up._hour = 100"
   ]
  },
  {
   "cell_type": "code",
   "execution_count": 32,
   "id": "bb409efd-9d7b-4de4-959e-8a1b59912109",
   "metadata": {},
   "outputs": [
    {
     "data": {
      "text/plain": [
       "Time(hour=100, minute=45, second=30)"
      ]
     },
     "execution_count": 32,
     "metadata": {},
     "output_type": "execute_result"
    }
   ],
   "source": [
    "wake_up"
   ]
  },
  {
   "cell_type": "markdown",
   "id": "2b647b61-f1c7-4f60-b41d-6f0ab998a143",
   "metadata": {},
   "source": [
    "## 10.5 Simulating \"Private\" Attributes"
   ]
  },
  {
   "cell_type": "markdown",
   "id": "ade0d6f1-2fd5-47bc-9648-58a4dde1c544",
   "metadata": {},
   "source": [
    "#### Demonstrating \"Private\" Attributes "
   ]
  },
  {
   "cell_type": "code",
   "execution_count": 180,
   "id": "acbdc35d-43a6-4b6c-99b9-5f741fe38c61",
   "metadata": {},
   "outputs": [],
   "source": [
    "from private import PrivateClass"
   ]
  },
  {
   "cell_type": "code",
   "execution_count": 181,
   "id": "ca7f566c-3d5f-4e5e-8a9d-bc01c4dcfba1",
   "metadata": {},
   "outputs": [],
   "source": [
    "my_object = PrivateClass()"
   ]
  },
  {
   "cell_type": "code",
   "execution_count": 182,
   "id": "9425c3cd-2aad-4dbc-af09-557f435ba48f",
   "metadata": {},
   "outputs": [
    {
     "data": {
      "text/plain": [
       "'public'"
      ]
     },
     "execution_count": 182,
     "metadata": {},
     "output_type": "execute_result"
    }
   ],
   "source": [
    "my_object.public_data"
   ]
  },
  {
   "cell_type": "markdown",
   "id": "9d425005-caba-4066-abcf-232ecb8da781",
   "metadata": {},
   "source": [
    "## 10.6 Case Study: Card Shuffling and Dealing Simulation"
   ]
  },
  {
   "cell_type": "markdown",
   "id": "71fc656f-fcb7-462b-b3ed-45915fd715aa",
   "metadata": {},
   "source": [
    "### 10.6.1 Test-Driving Classes Card and DeckOfCards"
   ]
  },
  {
   "cell_type": "markdown",
   "id": "dda2e711-69ff-4e29-b850-6c0df7f28704",
   "metadata": {},
   "source": [
    "#### Creating, Shuffling and Dealing the Cards"
   ]
  },
  {
   "cell_type": "code",
   "execution_count": 37,
   "id": "719375fb-70f8-4e3c-aa17-88b373f077c5",
   "metadata": {},
   "outputs": [],
   "source": [
    "from deck import DeckOfCards"
   ]
  },
  {
   "cell_type": "code",
   "execution_count": 38,
   "id": "461c5606-34d5-47a9-a303-7ad762378613",
   "metadata": {},
   "outputs": [],
   "source": [
    "deck_of_cards = DeckOfCards()"
   ]
  },
  {
   "cell_type": "code",
   "execution_count": 39,
   "id": "8c27b374-50bc-4a80-be74-d0b7356843c6",
   "metadata": {},
   "outputs": [
    {
     "name": "stdout",
     "output_type": "stream",
     "text": [
      "Ace of Hearts      2 of Hearts        3 of Hearts        4 of Hearts        \n",
      "5 of Hearts        6 of Hearts        7 of Hearts        8 of Hearts        \n",
      "9 of Hearts        10 of Hearts       Jack of Hearts     Queen of Hearts    \n",
      "King of Hearts     Ace of Diamonds    2 of Diamonds      3 of Diamonds      \n",
      "4 of Diamonds      5 of Diamonds      6 of Diamonds      7 of Diamonds      \n",
      "8 of Diamonds      9 of Diamonds      10 of Diamonds     Jack of Diamonds   \n",
      "Queen of Diamonds  King of Diamonds   Ace of Clubs       2 of Clubs         \n",
      "3 of Clubs         4 of Clubs         5 of Clubs         6 of Clubs         \n",
      "7 of Clubs         8 of Clubs         9 of Clubs         10 of Clubs        \n",
      "Jack of Clubs      Queen of Clubs     King of Clubs      Ace of Spades      \n",
      "2 of Spades        3 of Spades        4 of Spades        5 of Spades        \n",
      "6 of Spades        7 of Spades        8 of Spades        9 of Spades        \n",
      "10 of Spades       Jack of Spades     Queen of Spades    King of Spades     \n",
      "\n"
     ]
    }
   ],
   "source": [
    "print(deck_of_cards)"
   ]
  },
  {
   "cell_type": "code",
   "execution_count": 41,
   "id": "71c265ae-5153-4ae2-8eef-0a4bd9b8320b",
   "metadata": {},
   "outputs": [],
   "source": [
    "deck_of_cards.shuffle()"
   ]
  },
  {
   "cell_type": "code",
   "execution_count": 42,
   "id": "47a1ef5a-4dc1-4633-a80b-73045ddb8cbf",
   "metadata": {},
   "outputs": [
    {
     "name": "stdout",
     "output_type": "stream",
     "text": [
      "2 of Diamonds      7 of Hearts        8 of Clubs         10 of Diamonds     \n",
      "4 of Clubs         Jack of Hearts     Queen of Diamonds  4 of Diamonds      \n",
      "Queen of Clubs     Jack of Spades     3 of Spades        7 of Diamonds      \n",
      "2 of Spades        8 of Diamonds      7 of Clubs         9 of Diamonds      \n",
      "Ace of Hearts      5 of Clubs         9 of Clubs         9 of Spades        \n",
      "3 of Clubs         6 of Hearts        4 of Spades        5 of Spades        \n",
      "Jack of Diamonds   10 of Clubs        Ace of Clubs       9 of Hearts        \n",
      "King of Hearts     10 of Spades       Queen of Hearts    Queen of Spades    \n",
      "Jack of Clubs      King of Diamonds   2 of Clubs         King of Spades     \n",
      "5 of Diamonds      8 of Spades        Ace of Diamonds    6 of Diamonds      \n",
      "6 of Spades        8 of Hearts        Ace of Spades      King of Clubs      \n",
      "3 of Hearts        4 of Hearts        7 of Spades        2 of Hearts        \n",
      "5 of Hearts        6 of Clubs         10 of Hearts       3 of Diamonds      \n",
      "\n"
     ]
    }
   ],
   "source": [
    "print(deck_of_cards)"
   ]
  },
  {
   "cell_type": "markdown",
   "id": "a8a732af-6cad-4b76-ad16-86cb75ce6310",
   "metadata": {},
   "source": [
    "#### Dealing Cards"
   ]
  },
  {
   "cell_type": "code",
   "execution_count": 43,
   "id": "0a571bd1-186c-49ea-b182-82f2d393274e",
   "metadata": {},
   "outputs": [
    {
     "data": {
      "text/plain": [
       "Card(face='2', suit='Diamonds')"
      ]
     },
     "execution_count": 43,
     "metadata": {},
     "output_type": "execute_result"
    }
   ],
   "source": [
    "deck_of_cards.deal_card()"
   ]
  },
  {
   "cell_type": "markdown",
   "id": "56069cfe-2c8d-4c62-ac56-dc08b537cd33",
   "metadata": {},
   "source": [
    "#### Class Card's Other Features"
   ]
  },
  {
   "cell_type": "code",
   "execution_count": 45,
   "id": "b4e2809c-6733-4411-bccd-c815794a4ddd",
   "metadata": {},
   "outputs": [],
   "source": [
    "card = deck_of_cards.deal_card()"
   ]
  },
  {
   "cell_type": "code",
   "execution_count": 46,
   "id": "04c15514-bdb4-42ea-9602-c937214abc76",
   "metadata": {},
   "outputs": [
    {
     "data": {
      "text/plain": [
       "'7 of Hearts'"
      ]
     },
     "execution_count": 46,
     "metadata": {},
     "output_type": "execute_result"
    }
   ],
   "source": [
    "str(card)"
   ]
  },
  {
   "cell_type": "code",
   "execution_count": 47,
   "id": "2410d4eb-d4bd-45c3-995e-2fb10735a378",
   "metadata": {},
   "outputs": [
    {
     "data": {
      "text/plain": [
       "'7_of_Hearts.png'"
      ]
     },
     "execution_count": 47,
     "metadata": {},
     "output_type": "execute_result"
    }
   ],
   "source": [
    "card.image_name"
   ]
  },
  {
   "cell_type": "markdown",
   "id": "0fd76704-3327-4d31-b9bb-208f35a10db0",
   "metadata": {},
   "source": [
    "### 10.6.4 Displaying Card Images with Matplotlib"
   ]
  },
  {
   "cell_type": "code",
   "execution_count": 48,
   "id": "925ef45e-bf5e-45dd-baa0-1e8cdd9af438",
   "metadata": {},
   "outputs": [],
   "source": [
    "from deck import DeckOfCards"
   ]
  },
  {
   "cell_type": "code",
   "execution_count": 49,
   "id": "ae5cfc94-6f55-4a5e-90cc-9fbfafea6f10",
   "metadata": {},
   "outputs": [],
   "source": [
    "deck_of_cards = DeckOfCards()"
   ]
  },
  {
   "cell_type": "markdown",
   "id": "d01e85d1-6637-406f-b081-e92500cd41e7",
   "metadata": {},
   "source": [
    "#### Enable Matplotlib in IPython"
   ]
  },
  {
   "cell_type": "code",
   "execution_count": 55,
   "id": "cc97613b-1337-4cd8-aba3-01dd15d03017",
   "metadata": {},
   "outputs": [],
   "source": [
    "%matplotlib inline"
   ]
  },
  {
   "cell_type": "markdown",
   "id": "36bd7173-9407-4460-bedb-5ebdac235b87",
   "metadata": {},
   "source": [
    "#### Create the Base Path for Each Image"
   ]
  },
  {
   "cell_type": "code",
   "execution_count": 56,
   "id": "b662799e-de7b-4bc0-b426-f6ec1b7d07b2",
   "metadata": {},
   "outputs": [],
   "source": [
    "from pathlib import Path"
   ]
  },
  {
   "cell_type": "code",
   "execution_count": 57,
   "id": "0b281ed5-205c-4c17-b335-85672bd3e5a0",
   "metadata": {},
   "outputs": [],
   "source": [
    "path = Path('.').joinpath('card_images')"
   ]
  },
  {
   "cell_type": "markdown",
   "id": "fdd7a7d6-e2e5-4f25-9ef2-99533b653069",
   "metadata": {},
   "source": [
    "#### Import the Matplotlib Features"
   ]
  },
  {
   "cell_type": "code",
   "execution_count": 58,
   "id": "7e17021a-016a-4c57-b089-7663e591bb35",
   "metadata": {},
   "outputs": [],
   "source": [
    "import matplotlib.pyplot as plt"
   ]
  },
  {
   "cell_type": "code",
   "execution_count": 61,
   "id": "97a95492-06bb-44b6-ba07-3dfef80f16f2",
   "metadata": {},
   "outputs": [],
   "source": [
    "import matplotlib.image as mpimg"
   ]
  },
  {
   "cell_type": "markdown",
   "id": "3a8c112a-13d1-43a4-9dc8-ec02dcfadcac",
   "metadata": {},
   "source": [
    "#### Create the Figure and Axes Objects"
   ]
  },
  {
   "cell_type": "code",
   "execution_count": 60,
   "id": "542aa8ff-5b2f-4d4b-b6cc-d024386d352b",
   "metadata": {},
   "outputs": [
    {
     "data": {
      "image/png": "[encoded data removed]",
      "text/plain": [
       "<Figure size 640x480 with 52 Axes>"
      ]
     },
     "metadata": {},
     "output_type": "display_data"
    }
   ],
   "source": [
    "figure, axes_list = plt.subplots(nrows=4, ncols=13)"
   ]
  },
  {
   "cell_type": "code",
   "execution_count": 68,
   "id": "7e988197-bfa1-480c-9780-282cec193e1a",
   "metadata": {},
   "outputs": [],
   "source": [
    "### Rest of 10.6 was done in IPython"
   ]
  },
  {
   "cell_type": "markdown",
   "id": "8ebc5173-efca-4eac-9c1d-49160e8a3163",
   "metadata": {},
   "source": [
    "## 10.8 Building an Inheritance Hierarchy; Introducing Polymorphism"
   ]
  },
  {
   "cell_type": "markdown",
   "id": "c5723a5d-d388-4029-998e-a62b44510083",
   "metadata": {},
   "source": [
    "### 10.8.1 Base Class CommissionEmployee"
   ]
  },
  {
   "cell_type": "markdown",
   "id": "f499ff0d-e8cc-4641-8675-529fa10391a7",
   "metadata": {},
   "source": [
    "#### Testing Class CommissionEmployee"
   ]
  },
  {
   "cell_type": "code",
   "execution_count": 70,
   "id": "4cbcfcd4-3e5f-420a-a813-5373dddc83a5",
   "metadata": {},
   "outputs": [],
   "source": [
    "from commissionemployee import CommissionEmployee"
   ]
  },
  {
   "cell_type": "code",
   "execution_count": 71,
   "id": "c8b53e9a-1284-42b6-9f37-e1e5c9221046",
   "metadata": {},
   "outputs": [],
   "source": [
    "from decimal import Decimal"
   ]
  },
  {
   "cell_type": "code",
   "execution_count": 72,
   "id": "ec006f39-bea7-4d56-ab72-cd50afdb26b7",
   "metadata": {},
   "outputs": [],
   "source": [
    "c = CommissionEmployee('Sue', 'Jones', '333-33-3333', \n",
    "                       Decimal('10000.00'), Decimal('0.06'))"
   ]
  },
  {
   "cell_type": "code",
   "execution_count": 73,
   "id": "7182ddec-5a3f-4651-bfe8-5a23c9eebc71",
   "metadata": {},
   "outputs": [
    {
     "data": {
      "text/plain": [
       "CommissionEmployee: Sue Jones\n",
       "social security number: 333-33-3333\n",
       "gross sales: 10000.00\n",
       "commission rate: 0.06"
      ]
     },
     "execution_count": 73,
     "metadata": {},
     "output_type": "execute_result"
    }
   ],
   "source": [
    "c"
   ]
  },
  {
   "cell_type": "code",
   "execution_count": 74,
   "id": "a9488601-9cd0-4cf4-813b-0b67ffdc5bcf",
   "metadata": {},
   "outputs": [
    {
     "name": "stdout",
     "output_type": "stream",
     "text": [
      "600.00\n"
     ]
    }
   ],
   "source": [
    "print(f'{c.earnings():,.2f}')"
   ]
  },
  {
   "cell_type": "code",
   "execution_count": 76,
   "id": "f3e10dc5-7744-4b8b-8548-a46979726ac3",
   "metadata": {},
   "outputs": [],
   "source": [
    "c.gross_sales = Decimal('20000.00')"
   ]
  },
  {
   "cell_type": "code",
   "execution_count": 77,
   "id": "e82e9ce4-b9da-4e89-9450-ea8685737311",
   "metadata": {},
   "outputs": [],
   "source": [
    "c.commission_rate = Decimal('0.1')"
   ]
  },
  {
   "cell_type": "code",
   "execution_count": 78,
   "id": "aee9c36a-6781-4737-bbbb-6f7e60e7cd46",
   "metadata": {},
   "outputs": [
    {
     "name": "stdout",
     "output_type": "stream",
     "text": [
      "2,000.00\n"
     ]
    }
   ],
   "source": [
    "print(f'{c.earnings():,.2f}')"
   ]
  },
  {
   "cell_type": "markdown",
   "id": "35b04146-52b5-40f6-a6d0-c2bc5e466ea3",
   "metadata": {},
   "source": [
    "### 10.8.2 Subclass SalariedCommissionEmployee"
   ]
  },
  {
   "cell_type": "markdown",
   "id": "c7f3dc83-4a15-48d7-908f-d8f8e7b0d72f",
   "metadata": {},
   "source": [
    "#### Testing Class SalariedCommissionEmployee"
   ]
  },
  {
   "cell_type": "code",
   "execution_count": 79,
   "id": "4b87dad0-b01c-4715-a01d-412035c6c804",
   "metadata": {},
   "outputs": [],
   "source": [
    "from salariedcommissionemployee import SalariedCommissionEmployee"
   ]
  },
  {
   "cell_type": "code",
   "execution_count": 81,
   "id": "b8d7c82f-ae3a-4519-bcf0-406bd3bf7126",
   "metadata": {},
   "outputs": [],
   "source": [
    "s = SalariedCommissionEmployee('Bob', 'Lewis', '444-44-4444',\n",
    "                               Decimal('5000.00'), Decimal('0.04'), Decimal('300.00'))"
   ]
  },
  {
   "cell_type": "code",
   "execution_count": 82,
   "id": "139bcbf0-b760-4dbd-be83-0490510652b8",
   "metadata": {},
   "outputs": [
    {
     "name": "stdout",
     "output_type": "stream",
     "text": [
      "Bob Lewis 444-44-4444 5000.00 0.04 300.00\n"
     ]
    }
   ],
   "source": [
    "print(s.first_name, s.last_name, s.ssn, s.gross_sales, s.commission_rate, s.base_salary)"
   ]
  },
  {
   "cell_type": "code",
   "execution_count": 83,
   "id": "1b7bc06c-cfe1-4146-bd6b-dc9eeb1a2442",
   "metadata": {},
   "outputs": [
    {
     "name": "stdout",
     "output_type": "stream",
     "text": [
      "500.00\n"
     ]
    }
   ],
   "source": [
    "print(f'{s.earnings():,.2f}')"
   ]
  },
  {
   "cell_type": "code",
   "execution_count": 84,
   "id": "c39f3479-ec26-481a-b738-5548edde1239",
   "metadata": {},
   "outputs": [],
   "source": [
    "s.gross_sales = Decimal('10000.00')"
   ]
  },
  {
   "cell_type": "code",
   "execution_count": 85,
   "id": "c7ab2007-7e34-473f-850b-fe2413bb3586",
   "metadata": {},
   "outputs": [],
   "source": [
    "s.commission_rate = Decimal('0.05')"
   ]
  },
  {
   "cell_type": "code",
   "execution_count": 86,
   "id": "72c871b7-55e5-4e5e-b18f-26456abbbf0a",
   "metadata": {},
   "outputs": [],
   "source": [
    "s.base_salary = Decimal('1000.00')"
   ]
  },
  {
   "cell_type": "code",
   "execution_count": 87,
   "id": "8aad9745-1144-4c92-8f8c-96a9fecf9bf4",
   "metadata": {},
   "outputs": [
    {
     "name": "stdout",
     "output_type": "stream",
     "text": [
      "SalariedCommissionEmployee: Bob Lewis\n",
      "social security number: 444-44-4444\n",
      "gross sales: 10000.00\n",
      "commission rate: 0.05\n",
      "base salary: 1000.00\n"
     ]
    }
   ],
   "source": [
    "print(s)"
   ]
  },
  {
   "cell_type": "code",
   "execution_count": 89,
   "id": "cc198c55-8b7a-46d9-8301-6f9b6b85252d",
   "metadata": {},
   "outputs": [
    {
     "name": "stdout",
     "output_type": "stream",
     "text": [
      "1,500.00\n"
     ]
    }
   ],
   "source": [
    "print(f'{s.earnings():,.2f}')"
   ]
  },
  {
   "cell_type": "markdown",
   "id": "4af316a7-f52c-4018-ba30-a65dc07b0059",
   "metadata": {},
   "source": [
    "#### Testing the \"is a\" Relationship"
   ]
  },
  {
   "cell_type": "code",
   "execution_count": 90,
   "id": "72d40b61-92f5-4b04-914b-1bbbbc3a1cdc",
   "metadata": {},
   "outputs": [
    {
     "data": {
      "text/plain": [
       "True"
      ]
     },
     "execution_count": 90,
     "metadata": {},
     "output_type": "execute_result"
    }
   ],
   "source": [
    "issubclass(SalariedCommissionEmployee, CommissionEmployee)"
   ]
  },
  {
   "cell_type": "code",
   "execution_count": 91,
   "id": "c5135598-1a12-4262-a350-260122a1ab79",
   "metadata": {},
   "outputs": [
    {
     "data": {
      "text/plain": [
       "True"
      ]
     },
     "execution_count": 91,
     "metadata": {},
     "output_type": "execute_result"
    }
   ],
   "source": [
    "isinstance(s, CommissionEmployee)"
   ]
  },
  {
   "cell_type": "code",
   "execution_count": 92,
   "id": "576ba5a9-f542-4edf-9c21-f6db13f0f90e",
   "metadata": {},
   "outputs": [
    {
     "data": {
      "text/plain": [
       "True"
      ]
     },
     "execution_count": 92,
     "metadata": {},
     "output_type": "execute_result"
    }
   ],
   "source": [
    "isinstance(s, SalariedCommissionEmployee)"
   ]
  },
  {
   "cell_type": "markdown",
   "id": "95331019-25cf-4d49-9824-382debc1dbf9",
   "metadata": {},
   "source": [
    "### 1.8.3 Processing CommissionEmployees and SalariedCommissionEmployees Polymorphically"
   ]
  },
  {
   "cell_type": "code",
   "execution_count": 93,
   "id": "d5072f35-ebbf-4bc5-8168-fe5a719f8a59",
   "metadata": {},
   "outputs": [],
   "source": [
    "employees = [c, s]"
   ]
  },
  {
   "cell_type": "code",
   "execution_count": 94,
   "id": "1997cba7-9552-4125-b53c-a423d0400c1a",
   "metadata": {},
   "outputs": [
    {
     "name": "stdout",
     "output_type": "stream",
     "text": [
      "CommissionEmployee: Sue Jones\n",
      "social security number: 333-33-3333\n",
      "gross sales: 20000.00\n",
      "commission rate: 0.10\n",
      "2,000.00\n",
      "\n",
      "SalariedCommissionEmployee: Bob Lewis\n",
      "social security number: 444-44-4444\n",
      "gross sales: 10000.00\n",
      "commission rate: 0.05\n",
      "base salary: 1000.00\n",
      "1,500.00\n",
      "\n"
     ]
    }
   ],
   "source": [
    "for employee in employees:\n",
    "    print(employee)\n",
    "    print(f'{employee.earnings():,.2f}\\n')"
   ]
  },
  {
   "cell_type": "markdown",
   "id": "e299eeff-5fc8-4de6-8ecf-890f1aa5756e",
   "metadata": {},
   "source": [
    "## 10.9 Duck Typing and Polymorphism"
   ]
  },
  {
   "cell_type": "code",
   "execution_count": 95,
   "id": "22b7a2ef-f1cb-40ab-8156-7e353a88f187",
   "metadata": {},
   "outputs": [],
   "source": [
    "class WellPaidDuck:\n",
    "    def _repr_(self):\n",
    "        return 'I am a well-paid duck'\n",
    "    def earnings(self):\n",
    "        return Decimal('1_000_000.00')"
   ]
  },
  {
   "cell_type": "code",
   "execution_count": 96,
   "id": "43138064-1052-4123-9284-c163666717cf",
   "metadata": {},
   "outputs": [],
   "source": [
    "from decimal import Decimal"
   ]
  },
  {
   "cell_type": "code",
   "execution_count": 97,
   "id": "4a9a4c66-02b6-4e6b-959e-499f25ecd342",
   "metadata": {},
   "outputs": [],
   "source": [
    "from commissionemployee import CommissionEmployee"
   ]
  },
  {
   "cell_type": "code",
   "execution_count": 98,
   "id": "13ad3d8f-b3b8-4c1a-936a-e4c26fef73eb",
   "metadata": {},
   "outputs": [],
   "source": [
    "from salariedcommissionemployee import SalariedCommissionEmployee"
   ]
  },
  {
   "cell_type": "code",
   "execution_count": 99,
   "id": "e82c5ca4-b957-4e66-b396-8458bb047350",
   "metadata": {},
   "outputs": [],
   "source": [
    "c = CommissionEmployee('Sue', 'Jones', '333-33-3333',\n",
    "                       Decimal('10000.00'), Decimal('0.06'))"
   ]
  },
  {
   "cell_type": "code",
   "execution_count": 100,
   "id": "42d1e902-ec05-4dba-b65a-d85516710b35",
   "metadata": {},
   "outputs": [],
   "source": [
    "s = SalariedCommissionEmployee('Bob', 'Lewis', '444-44-4444',\n",
    "                               Decimal('5000.00'), Decimal('0.04'), Decimal('300.00'))"
   ]
  },
  {
   "cell_type": "code",
   "execution_count": 101,
   "id": "0d13bcc4-415b-4613-aeb7-6d094aad3bfe",
   "metadata": {},
   "outputs": [],
   "source": [
    "d = WellPaidDuck()"
   ]
  },
  {
   "cell_type": "code",
   "execution_count": 102,
   "id": "9065e718-d12a-4e42-a7e2-850e4b529a7f",
   "metadata": {},
   "outputs": [],
   "source": [
    "employees = [c, s, d]"
   ]
  },
  {
   "cell_type": "code",
   "execution_count": 104,
   "id": "e97c1a2e-b3f5-4fc9-80c9-206afa52c681",
   "metadata": {},
   "outputs": [
    {
     "name": "stdout",
     "output_type": "stream",
     "text": [
      "CommissionEmployee: Sue Jones\n",
      "social security number: 333-33-3333\n",
      "gross sales: 10000.00\n",
      "commission rate: 0.06\n",
      "600.00\n",
      "\n",
      "SalariedCommissionEmployee: Bob Lewis\n",
      "social security number: 444-44-4444\n",
      "gross sales: 5000.00\n",
      "commission rate: 0.04\n",
      "base salary: 300.00\n",
      "500.00\n",
      "\n",
      "<__main__.WellPaidDuck object at 0x00000150D2870370>\n",
      "1,000,000.00\n",
      "\n"
     ]
    }
   ],
   "source": [
    "for employee in employees:\n",
    "    print(employee)\n",
    "    print(f'{employee.earnings():,.2f}\\n')"
   ]
  },
  {
   "cell_type": "markdown",
   "id": "d22432fb-2df2-4690-97f2-4717d5743589",
   "metadata": {},
   "source": [
    "## 10.10 Operator Overloading"
   ]
  },
  {
   "cell_type": "markdown",
   "id": "871273a2-e1d8-4904-9863-3a1890762355",
   "metadata": {},
   "source": [
    "### 10.10.1 Test-Driving Class Complex"
   ]
  },
  {
   "cell_type": "code",
   "execution_count": 106,
   "id": "01dd545c-d5cb-4720-bc64-34b23e67b5ac",
   "metadata": {},
   "outputs": [],
   "source": [
    "from complexnumber import Complex"
   ]
  },
  {
   "cell_type": "code",
   "execution_count": 107,
   "id": "b3056ffd-554e-416f-954b-01e85867d480",
   "metadata": {},
   "outputs": [],
   "source": [
    "x = Complex(real=2, imaginary=4)"
   ]
  },
  {
   "cell_type": "code",
   "execution_count": 108,
   "id": "85a3d8d8-02d0-4358-8016-1793226fc96d",
   "metadata": {},
   "outputs": [
    {
     "data": {
      "text/plain": [
       "(2 + 4i)"
      ]
     },
     "execution_count": 108,
     "metadata": {},
     "output_type": "execute_result"
    }
   ],
   "source": [
    "x"
   ]
  },
  {
   "cell_type": "code",
   "execution_count": 109,
   "id": "3078554d-06d5-43d2-b617-f696ce460df9",
   "metadata": {},
   "outputs": [],
   "source": [
    "y = Complex(real=5, imaginary=-1)"
   ]
  },
  {
   "cell_type": "code",
   "execution_count": 110,
   "id": "efb51f40-2a16-4807-bc42-d5beadaf6f3b",
   "metadata": {},
   "outputs": [
    {
     "data": {
      "text/plain": [
       "(5 - 1i)"
      ]
     },
     "execution_count": 110,
     "metadata": {},
     "output_type": "execute_result"
    }
   ],
   "source": [
    "y"
   ]
  },
  {
   "cell_type": "code",
   "execution_count": 111,
   "id": "665d2c83-278c-409a-a57d-0ff67616fc0b",
   "metadata": {},
   "outputs": [
    {
     "data": {
      "text/plain": [
       "(7 + 3i)"
      ]
     },
     "execution_count": 111,
     "metadata": {},
     "output_type": "execute_result"
    }
   ],
   "source": [
    "x+y"
   ]
  },
  {
   "cell_type": "code",
   "execution_count": 112,
   "id": "f983cb07-d784-4ed6-b0e1-869850f58bd6",
   "metadata": {},
   "outputs": [
    {
     "data": {
      "text/plain": [
       "(5 - 1i)"
      ]
     },
     "execution_count": 112,
     "metadata": {},
     "output_type": "execute_result"
    }
   ],
   "source": [
    "y"
   ]
  },
  {
   "cell_type": "code",
   "execution_count": 113,
   "id": "6b1ea3d1-2fbd-4016-9fd3-021f41617f10",
   "metadata": {},
   "outputs": [],
   "source": [
    "x += y"
   ]
  },
  {
   "cell_type": "code",
   "execution_count": 114,
   "id": "f7f7c2bb-3b62-4af1-9bba-ce49029c469e",
   "metadata": {},
   "outputs": [
    {
     "data": {
      "text/plain": [
       "(7 + 3i)"
      ]
     },
     "execution_count": 114,
     "metadata": {},
     "output_type": "execute_result"
    }
   ],
   "source": [
    "x"
   ]
  },
  {
   "cell_type": "code",
   "execution_count": 115,
   "id": "b1807322-856e-4eb7-b7ee-2185e617387b",
   "metadata": {},
   "outputs": [
    {
     "data": {
      "text/plain": [
       "(5 - 1i)"
      ]
     },
     "execution_count": 115,
     "metadata": {},
     "output_type": "execute_result"
    }
   ],
   "source": [
    "y"
   ]
  },
  {
   "cell_type": "markdown",
   "id": "3ec487b7-81fb-48aa-913a-04636ef503ef",
   "metadata": {},
   "source": [
    "#### Self Check"
   ]
  },
  {
   "cell_type": "code",
   "execution_count": 117,
   "id": "93d64d7b-2921-4279-acef-94184718c4a4",
   "metadata": {},
   "outputs": [],
   "source": [
    "from complexnumber2 import Complex"
   ]
  },
  {
   "cell_type": "code",
   "execution_count": 118,
   "id": "52babf7d-fae3-4006-a0fe-6a8c448d85f7",
   "metadata": {},
   "outputs": [],
   "source": [
    "x = Complex(real=2, imaginary=4)"
   ]
  },
  {
   "cell_type": "code",
   "execution_count": 119,
   "id": "f5cfef6d-f738-4df6-b21e-d6e0584146e8",
   "metadata": {},
   "outputs": [],
   "source": [
    "y = Complex(real=5, imaginary=-1)"
   ]
  },
  {
   "cell_type": "code",
   "execution_count": 120,
   "id": "dc036b1b-fdea-47b4-ac29-e6496b114154",
   "metadata": {},
   "outputs": [
    {
     "data": {
      "text/plain": [
       "(-3 + 5i)"
      ]
     },
     "execution_count": 120,
     "metadata": {},
     "output_type": "execute_result"
    }
   ],
   "source": [
    "x-y"
   ]
  },
  {
   "cell_type": "code",
   "execution_count": 121,
   "id": "80fd3f5e-22b0-4ca9-8902-5e484d8ae0df",
   "metadata": {},
   "outputs": [],
   "source": [
    "x -= y"
   ]
  },
  {
   "cell_type": "code",
   "execution_count": 122,
   "id": "935247e8-543b-4658-bdd3-d23b54074b3c",
   "metadata": {},
   "outputs": [
    {
     "data": {
      "text/plain": [
       "(-3 + 5i)"
      ]
     },
     "execution_count": 122,
     "metadata": {},
     "output_type": "execute_result"
    }
   ],
   "source": [
    "x"
   ]
  },
  {
   "cell_type": "code",
   "execution_count": 123,
   "id": "eabf9efe-f292-4b6f-b47e-b29b396569b4",
   "metadata": {},
   "outputs": [
    {
     "data": {
      "text/plain": [
       "(5 - 1i)"
      ]
     },
     "execution_count": 123,
     "metadata": {},
     "output_type": "execute_result"
    }
   ],
   "source": [
    "y"
   ]
  },
  {
   "cell_type": "markdown",
   "id": "11c3a7ae-7123-4c68-b609-1eef8d690d18",
   "metadata": {},
   "source": [
    "## 10.12 Named Tuples"
   ]
  },
  {
   "cell_type": "code",
   "execution_count": 124,
   "id": "dceeabcc-da3b-4262-be22-3321e4ecf4ce",
   "metadata": {},
   "outputs": [],
   "source": [
    "from collections import namedtuple"
   ]
  },
  {
   "cell_type": "code",
   "execution_count": 125,
   "id": "2c5656c9-c954-4882-8df7-63756a4d69db",
   "metadata": {},
   "outputs": [],
   "source": [
    "Card = namedtuple('Card', ['face', 'suit'])"
   ]
  },
  {
   "cell_type": "code",
   "execution_count": 126,
   "id": "2555c342-aa57-4f94-a0e3-edf5b48f71df",
   "metadata": {},
   "outputs": [],
   "source": [
    "card = Card(face='Ace', suit='Spades')"
   ]
  },
  {
   "cell_type": "code",
   "execution_count": 127,
   "id": "e3e35917-9dd4-4ae3-b0dc-57856ee4c59b",
   "metadata": {},
   "outputs": [
    {
     "data": {
      "text/plain": [
       "'Ace'"
      ]
     },
     "execution_count": 127,
     "metadata": {},
     "output_type": "execute_result"
    }
   ],
   "source": [
    "card.face"
   ]
  },
  {
   "cell_type": "code",
   "execution_count": 128,
   "id": "52b407ab-9608-4178-8868-fcd5707f9f84",
   "metadata": {},
   "outputs": [
    {
     "data": {
      "text/plain": [
       "'Spades'"
      ]
     },
     "execution_count": 128,
     "metadata": {},
     "output_type": "execute_result"
    }
   ],
   "source": [
    "card.suit"
   ]
  },
  {
   "cell_type": "code",
   "execution_count": 129,
   "id": "ce1d50d6-36e1-41a1-8f4b-e435f8051b3d",
   "metadata": {},
   "outputs": [
    {
     "data": {
      "text/plain": [
       "Card(face='Ace', suit='Spades')"
      ]
     },
     "execution_count": 129,
     "metadata": {},
     "output_type": "execute_result"
    }
   ],
   "source": [
    "card"
   ]
  },
  {
   "cell_type": "markdown",
   "id": "e799944a-29a9-4ea1-81e6-e777bf9fea3a",
   "metadata": {},
   "source": [
    "#### Other Named Tuple Features"
   ]
  },
  {
   "cell_type": "code",
   "execution_count": 130,
   "id": "0b40c8dc-dd1d-498d-ab27-d37f74a4aec6",
   "metadata": {},
   "outputs": [],
   "source": [
    "values = ['Queen', 'Hearts']"
   ]
  },
  {
   "cell_type": "code",
   "execution_count": 131,
   "id": "05d3dd8f-5ee0-4b50-a2e3-2bc63da54cf6",
   "metadata": {},
   "outputs": [],
   "source": [
    "card = Card._make(values)"
   ]
  },
  {
   "cell_type": "code",
   "execution_count": 132,
   "id": "be432dab-15a9-4173-8294-ba5310d25ebb",
   "metadata": {},
   "outputs": [
    {
     "data": {
      "text/plain": [
       "Card(face='Queen', suit='Hearts')"
      ]
     },
     "execution_count": 132,
     "metadata": {},
     "output_type": "execute_result"
    }
   ],
   "source": [
    "card"
   ]
  },
  {
   "cell_type": "code",
   "execution_count": 134,
   "id": "7b526cd0-b924-4e80-8f03-d76c39c6c317",
   "metadata": {},
   "outputs": [
    {
     "data": {
      "text/plain": [
       "{'face': 'Queen', 'suit': 'Hearts'}"
      ]
     },
     "execution_count": 134,
     "metadata": {},
     "output_type": "execute_result"
    }
   ],
   "source": [
    "card._asdict()"
   ]
  },
  {
   "cell_type": "markdown",
   "id": "caa4cd6c-6df5-47e2-92de-240c2773150e",
   "metadata": {},
   "source": [
    "#### Self Check"
   ]
  },
  {
   "cell_type": "code",
   "execution_count": 135,
   "id": "cfc284ba-3536-47c3-a617-b44de0cff54f",
   "metadata": {},
   "outputs": [],
   "source": [
    "from collections import namedtuple"
   ]
  },
  {
   "cell_type": "code",
   "execution_count": 136,
   "id": "a041f11c-999d-43c7-85aa-e61669eccfc8",
   "metadata": {},
   "outputs": [],
   "source": [
    "Time = namedtuple('Time', ['hour', 'minute', 'second'])"
   ]
  },
  {
   "cell_type": "code",
   "execution_count": 137,
   "id": "13dee003-d91a-46c4-b94f-9fc9c4dc6f88",
   "metadata": {},
   "outputs": [],
   "source": [
    "t = Time(13, 30, 45)"
   ]
  },
  {
   "cell_type": "code",
   "execution_count": 138,
   "id": "05c8467a-8169-4ef8-8903-b2b19c6792c0",
   "metadata": {},
   "outputs": [
    {
     "name": "stdout",
     "output_type": "stream",
     "text": [
      "13 30 45\n"
     ]
    }
   ],
   "source": [
    "print(t.hour, t.minute, t.second)"
   ]
  },
  {
   "cell_type": "code",
   "execution_count": 139,
   "id": "03ae7b1e-11da-4caf-b62c-ab22b3cedd5d",
   "metadata": {},
   "outputs": [
    {
     "data": {
      "text/plain": [
       "Time(hour=13, minute=30, second=45)"
      ]
     },
     "execution_count": 139,
     "metadata": {},
     "output_type": "execute_result"
    }
   ],
   "source": [
    "t"
   ]
  },
  {
   "cell_type": "markdown",
   "id": "60fb30fa-8b22-4d51-8720-e942eb8dca37",
   "metadata": {},
   "source": [
    "## 10.13 A Brief Intro to Python 3.7's New Data Classes"
   ]
  },
  {
   "cell_type": "markdown",
   "id": "edcef94f-21f8-4a9a-9107-397ad4579f6b",
   "metadata": {},
   "source": [
    "### 10.13.2 Using the Card Data Class"
   ]
  },
  {
   "cell_type": "code",
   "execution_count": 140,
   "id": "87cc8b9e-569a-4400-a16c-a9336a0acb49",
   "metadata": {},
   "outputs": [],
   "source": [
    "from carddataclass import Card"
   ]
  },
  {
   "cell_type": "code",
   "execution_count": 143,
   "id": "c4cf7453-a990-4cec-896e-32867add38ba",
   "metadata": {},
   "outputs": [],
   "source": [
    "c1 = Card(Card.FACES[0], Card.SUITS[3])"
   ]
  },
  {
   "cell_type": "code",
   "execution_count": 144,
   "id": "4c77c1aa-0788-49f1-9f0d-2f4bc07a39da",
   "metadata": {},
   "outputs": [
    {
     "data": {
      "text/plain": [
       "Card(face='Ace', suit='Spades')"
      ]
     },
     "execution_count": 144,
     "metadata": {},
     "output_type": "execute_result"
    }
   ],
   "source": [
    "c1"
   ]
  },
  {
   "cell_type": "code",
   "execution_count": 145,
   "id": "73fa0712-c14d-4a7f-b856-0dbc90a4407d",
   "metadata": {},
   "outputs": [
    {
     "name": "stdout",
     "output_type": "stream",
     "text": [
      "Ace of Spades\n"
     ]
    }
   ],
   "source": [
    "print(c1)"
   ]
  },
  {
   "cell_type": "code",
   "execution_count": 146,
   "id": "ab9b1b5b-b16c-46d9-a46f-3af441afa73e",
   "metadata": {},
   "outputs": [
    {
     "data": {
      "text/plain": [
       "'Ace'"
      ]
     },
     "execution_count": 146,
     "metadata": {},
     "output_type": "execute_result"
    }
   ],
   "source": [
    "c1.face"
   ]
  },
  {
   "cell_type": "code",
   "execution_count": 147,
   "id": "40c9a807-e7c2-47e0-b132-3da82456873e",
   "metadata": {},
   "outputs": [
    {
     "data": {
      "text/plain": [
       "'Spades'"
      ]
     },
     "execution_count": 147,
     "metadata": {},
     "output_type": "execute_result"
    }
   ],
   "source": [
    "c1.suit"
   ]
  },
  {
   "cell_type": "code",
   "execution_count": 148,
   "id": "9541636f-dcd4-4827-ae07-40e9c20321c1",
   "metadata": {},
   "outputs": [
    {
     "data": {
      "text/plain": [
       "'Ace_of_Spades.png'"
      ]
     },
     "execution_count": 148,
     "metadata": {},
     "output_type": "execute_result"
    }
   ],
   "source": [
    "c1.image_name"
   ]
  },
  {
   "cell_type": "code",
   "execution_count": 149,
   "id": "e67f2c7b-1caf-4f23-bb13-3ffff7f64188",
   "metadata": {},
   "outputs": [],
   "source": [
    "c2 = Card(Card.FACES[0], Card.SUITS[3])"
   ]
  },
  {
   "cell_type": "code",
   "execution_count": 150,
   "id": "44237c2a-45ce-4606-a08e-aa54646d9390",
   "metadata": {},
   "outputs": [
    {
     "data": {
      "text/plain": [
       "Card(face='Ace', suit='Spades')"
      ]
     },
     "execution_count": 150,
     "metadata": {},
     "output_type": "execute_result"
    }
   ],
   "source": [
    "c2"
   ]
  },
  {
   "cell_type": "code",
   "execution_count": 151,
   "id": "65cecf7e-c645-43a1-b863-45b4d48bc0eb",
   "metadata": {},
   "outputs": [],
   "source": [
    "c3 = Card(Card.FACES[0], Card.SUITS[0])"
   ]
  },
  {
   "cell_type": "code",
   "execution_count": 152,
   "id": "175002a4-64f1-40a6-bcaa-e9af3d2d4ad2",
   "metadata": {},
   "outputs": [
    {
     "data": {
      "text/plain": [
       "Card(face='Ace', suit='Hearts')"
      ]
     },
     "execution_count": 152,
     "metadata": {},
     "output_type": "execute_result"
    }
   ],
   "source": [
    "c3"
   ]
  },
  {
   "cell_type": "code",
   "execution_count": 153,
   "id": "a67ae47c-5b05-490b-a661-9445ee54e2b2",
   "metadata": {},
   "outputs": [
    {
     "data": {
      "text/plain": [
       "True"
      ]
     },
     "execution_count": 153,
     "metadata": {},
     "output_type": "execute_result"
    }
   ],
   "source": [
    "c1 == c2"
   ]
  },
  {
   "cell_type": "code",
   "execution_count": 154,
   "id": "747c3883-fe2e-4844-9307-0e5edf58a35f",
   "metadata": {},
   "outputs": [
    {
     "data": {
      "text/plain": [
       "False"
      ]
     },
     "execution_count": 154,
     "metadata": {},
     "output_type": "execute_result"
    }
   ],
   "source": [
    "c1 == c3"
   ]
  },
  {
   "cell_type": "code",
   "execution_count": 155,
   "id": "32fe5f00-1a07-45a5-8194-bdb5ae91948a",
   "metadata": {},
   "outputs": [
    {
     "data": {
      "text/plain": [
       "True"
      ]
     },
     "execution_count": 155,
     "metadata": {},
     "output_type": "execute_result"
    }
   ],
   "source": [
    "c1 != c3"
   ]
  },
  {
   "cell_type": "code",
   "execution_count": 156,
   "id": "50037d34-e7bf-476e-a5f1-b06082893c13",
   "metadata": {},
   "outputs": [],
   "source": [
    "from deck2 import DeckOfCards"
   ]
  },
  {
   "cell_type": "code",
   "execution_count": 157,
   "id": "2f782b34-d773-4ddd-b81f-c7b13a57a1a1",
   "metadata": {},
   "outputs": [],
   "source": [
    "deck_of_cards = DeckOfCards()"
   ]
  },
  {
   "cell_type": "code",
   "execution_count": 158,
   "id": "bd417fcd-1201-40b6-8839-017b9dd30856",
   "metadata": {},
   "outputs": [
    {
     "name": "stdout",
     "output_type": "stream",
     "text": [
      "Ace of Hearts      2 of Hearts        3 of Hearts        4 of Hearts        \n",
      "5 of Hearts        6 of Hearts        7 of Hearts        8 of Hearts        \n",
      "9 of Hearts        10 of Hearts       Jack of Hearts     Queen of Hearts    \n",
      "King of Hearts     Ace of Diamonds    2 of Diamonds      3 of Diamonds      \n",
      "4 of Diamonds      5 of Diamonds      6 of Diamonds      7 of Diamonds      \n",
      "8 of Diamonds      9 of Diamonds      10 of Diamonds     Jack of Diamonds   \n",
      "Queen of Diamonds  King of Diamonds   Ace of Clubs       2 of Clubs         \n",
      "3 of Clubs         4 of Clubs         5 of Clubs         6 of Clubs         \n",
      "7 of Clubs         8 of Clubs         9 of Clubs         10 of Clubs        \n",
      "Jack of Clubs      Queen of Clubs     King of Clubs      Ace of Spades      \n",
      "2 of Spades        3 of Spades        4 of Spades        5 of Spades        \n",
      "6 of Spades        7 of Spades        8 of Spades        9 of Spades        \n",
      "10 of Spades       Jack of Spades     Queen of Spades    King of Spades     \n",
      "\n"
     ]
    }
   ],
   "source": [
    "print(deck_of_cards)"
   ]
  },
  {
   "cell_type": "markdown",
   "id": "0aa37505-eefb-4531-b26f-b2be7a5b3086",
   "metadata": {},
   "source": [
    "#### Self Check"
   ]
  },
  {
   "cell_type": "code",
   "execution_count": 159,
   "id": "e815f24a-aa36-4636-956a-64b54032ad59",
   "metadata": {},
   "outputs": [],
   "source": [
    "from carddataclass import Card"
   ]
  },
  {
   "cell_type": "code",
   "execution_count": 160,
   "id": "5b347d31-ff42-4708-be17-6765e8a95da0",
   "metadata": {},
   "outputs": [],
   "source": [
    "c = Card('Ace', 'Spades')"
   ]
  },
  {
   "cell_type": "code",
   "execution_count": 161,
   "id": "ce8725f3-c3d0-4a76-9ec5-141613c56a3c",
   "metadata": {},
   "outputs": [
    {
     "data": {
      "text/plain": [
       "Card(face='Ace', suit='Spades')"
      ]
     },
     "execution_count": 161,
     "metadata": {},
     "output_type": "execute_result"
    }
   ],
   "source": [
    "c"
   ]
  },
  {
   "cell_type": "code",
   "execution_count": 162,
   "id": "2cc93a48-51f4-4091-8115-436b5faaa121",
   "metadata": {},
   "outputs": [
    {
     "data": {
      "text/plain": [
       "str"
      ]
     },
     "execution_count": 162,
     "metadata": {},
     "output_type": "execute_result"
    }
   ],
   "source": [
    "type(c.face)"
   ]
  },
  {
   "cell_type": "code",
   "execution_count": 164,
   "id": "9e0f5e06-62af-4401-bce4-35abb9854633",
   "metadata": {},
   "outputs": [],
   "source": [
    "c.face = 100"
   ]
  },
  {
   "cell_type": "code",
   "execution_count": 165,
   "id": "384b6339-8eb9-4651-ab7a-c5138a926a07",
   "metadata": {},
   "outputs": [
    {
     "data": {
      "text/plain": [
       "Card(face=100, suit='Spades')"
      ]
     },
     "execution_count": 165,
     "metadata": {},
     "output_type": "execute_result"
    }
   ],
   "source": [
    "c"
   ]
  },
  {
   "cell_type": "code",
   "execution_count": 166,
   "id": "067104f0-c7ff-4331-8dbc-045eba0c8e39",
   "metadata": {},
   "outputs": [
    {
     "data": {
      "text/plain": [
       "int"
      ]
     },
     "execution_count": 166,
     "metadata": {},
     "output_type": "execute_result"
    }
   ],
   "source": [
    "type(c.face)"
   ]
  },
  {
   "cell_type": "markdown",
   "id": "ebf473b3-fa4d-4114-aea8-d09137ff57ae",
   "metadata": {},
   "source": [
    "## 10.15 Namespaces and Scopes"
   ]
  },
  {
   "cell_type": "markdown",
   "id": "a934dc06-e76a-4385-8b9d-d687d7a37fa3",
   "metadata": {},
   "source": [
    "#### Finding Identifies in Namespaces"
   ]
  },
  {
   "cell_type": "code",
   "execution_count": 168,
   "id": "c14fb59f-b23e-4541-91ab-17c28225728c",
   "metadata": {},
   "outputs": [],
   "source": [
    "z = 'global z'"
   ]
  },
  {
   "cell_type": "code",
   "execution_count": 169,
   "id": "05131404-16f1-4c93-8f2a-8d2a492c7b2f",
   "metadata": {},
   "outputs": [],
   "source": [
    "def print_variables():\n",
    "    y = 'local y in print_variables'\n",
    "    print(y)\n",
    "    print(z)"
   ]
  },
  {
   "cell_type": "code",
   "execution_count": 170,
   "id": "af4795d9-3717-49a5-8d04-3ad029cb0d74",
   "metadata": {},
   "outputs": [
    {
     "name": "stdout",
     "output_type": "stream",
     "text": [
      "local y in print_variables\n",
      "global z\n"
     ]
    }
   ],
   "source": [
    "print_variables()"
   ]
  },
  {
   "cell_type": "code",
   "execution_count": 172,
   "id": "4b5bbe1d-cdf3-4158-be84-be13b57350a1",
   "metadata": {},
   "outputs": [
    {
     "data": {
      "text/plain": [
       "'global z'"
      ]
     },
     "execution_count": 172,
     "metadata": {},
     "output_type": "execute_result"
    }
   ],
   "source": [
    "z"
   ]
  }
 ],
 "metadata": {
  "kernelspec": {
   "display_name": "Python 3 (ipykernel)",
   "language": "python",
   "name": "python3"
  },
  "language_info": {
   "codemirror_mode": {
    "name": "ipython",
    "version": 3
   },
   "file_extension": ".py",
   "mimetype": "text/x-python",
   "name": "python",
   "nbconvert_exporter": "python",
   "pygments_lexer": "ipython3",
   "version": "3.9.12"
  }
 },
 "nbformat": 4,
 "nbformat_minor": 5
}
